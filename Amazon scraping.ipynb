{
 "cells": [
  {
   "cell_type": "code",
   "execution_count": null,
   "id": "f18ffbf4",
   "metadata": {},
   "outputs": [],
   "source": [
    "import requests \n",
    "from bs4 import BeautifulSoup \n",
    "import pandas as pd\n",
    "from selenium import webdriver"
   ]
  },
  {
   "cell_type": "code",
   "execution_count": null,
   "id": "a9c2ce81",
   "metadata": {},
   "outputs": [],
   "source": [
    "options = webdriver.ChromeOptions()\n",
    "options.add_argument('--headless')\n",
    "\n",
    "driver = webdriver.Chrome(options=options)"
   ]
  },
  {
   "cell_type": "code",
   "execution_count": null,
   "id": "db2213f8",
   "metadata": {},
   "outputs": [],
   "source": [
    "# Declare list for each feature\n",
    "links = []\n",
    "salaries = []\n",
    "colors = []\n",
    "brands = []\n",
    "models = []\n",
    "wireless_carrier = []\n",
    "os = []\n",
    "cellular_technology = []\n",
    "memory_storage = []\n",
    "connectivity_technologies = []\n",
    "screen_size = []\n",
    "wireless_network = []\n",
    "SIM_card = []"
   ]
  },
  {
   "cell_type": "code",
   "execution_count": null,
   "id": "86580614",
   "metadata": {},
   "outputs": [],
   "source": [
    "def brands_mobile(Brand , limit_page): \n",
    "    \"\"\"Extract links for each mobile on all pages for the chosen mobile brand\"\"\"\n",
    "    page_num = 1\n",
    "    while True :\n",
    "        driver.get(f'https://www.amazon.eg/-/en/s?i=electronics&bbn=21832883031&rh=n%3A21832883031%2Cp_89%3A{Brand}&dc&fs=true&page={page_num}&language=en&qid=1676571278&rnid=22541269031&ref=sr_pg_{page_num}')\n",
    "        content = driver.page_source\n",
    "        soup = BeautifulSoup(content, features='html.parser')\n",
    "        mobile_info = soup.find_all('h2' , {'class': 'a-size-mini a-spacing-none a-color-base s-line-clamp-4'})\n",
    "        \n",
    "        #Add link of each mobile item in list \n",
    "        for i in range(len(mobile_info)) :\n",
    "            links.append('https://www.amazon.eg'+ mobile_info[i].find('a').attrs['href'])\n",
    "        \n",
    "        print(f'page {page_num} : Done')\n",
    "        page_num += 1\n",
    "        if page_num == limit_page :\n",
    "            print('done all')\n",
    "            break"
   ]
  },
  {
   "cell_type": "code",
   "execution_count": null,
   "id": "3c684f3d",
   "metadata": {},
   "outputs": [],
   "source": [
    "Brand = input('Please enter one of the following mobile brands SAMSUNG , Apple , realme , OPPO , HUAWEI , Infinix , Xiaomi , Vivo : ')\n",
    "\n",
    "if Brand == 'SAMSUNG' :\n",
    "    brands_mobile(Brand , 7)\n",
    "    \n",
    "elif Brand == 'Apple':\n",
    "    brands_mobile(Brand , 20)\n",
    "\n",
    "elif Brand == 'realme':\n",
    "    brands_mobile(Brand , 4)\n",
    "\n",
    "elif Brand == 'OPPO':\n",
    "    brands_mobile(Brand , 4)\n",
    "\n",
    "elif Brand == 'HUAWEI':\n",
    "    brands_mobile(Brand , 2)\n",
    "\n",
    "elif Brand == 'Infinix':\n",
    "    brands_mobile(Brand , 2)\n",
    "\n",
    "elif Brand == 'Xiaomi':\n",
    "    brands_mobile(Brand , 4)\n",
    "\n",
    "elif Brand == 'Vivo':\n",
    "    brands_mobile(Brand , 2)"
   ]
  },
  {
   "cell_type": "code",
   "execution_count": null,
   "id": "b85a965b",
   "metadata": {},
   "outputs": [],
   "source": [
    "def processing(types , list_name):\n",
    "    \"\"\"function to extract information of each type\"\"\"\n",
    "    if types == None :\n",
    "        list_name.append('none')\n",
    "    else:\n",
    "        list_name.append(types.contents[3].text.strip())"
   ]
  },
  {
   "cell_type": "code",
   "execution_count": null,
   "id": "10aec0e9",
   "metadata": {},
   "outputs": [],
   "source": [
    "for link in links:\n",
    "    driver.get(link)\n",
    "    src = driver.page_source\n",
    "    soup = BeautifulSoup(src, features='html.parser')\n",
    "    \n",
    "\n",
    "    #get mobile salaries\n",
    "    Salary = soup.find('span' , {'class' : 'a-price-whole'})\n",
    "    if Salary == None:\n",
    "        salaries.append('none')\n",
    "    else:\n",
    "        salaries.append(Salary.text.replace(',' , '').replace('.' , '').strip())\n",
    "    \n",
    "    #get brand of mobile\n",
    "    brand = soup.find('tr' , {'class' : \"a-spacing-small po-brand\"})\n",
    "    processing(brand , brands)\n",
    "    \n",
    "    #get models of mobile\n",
    "    Model_name = soup.find('tr' , {'class' : 'a-spacing-small po-model_name'})\n",
    "    processing(Model_name , models)\n",
    "\n",
    "    #get wireless_carrier of mobile\n",
    "    wireless = soup.find('tr' , {'class' : \"a-spacing-small po-wireless_provider\"})\n",
    "    processing(wireless , wireless_carrier)\n",
    "\n",
    "    #get os of mobile\n",
    "    operating_sys = soup.find('tr' , {'class' : \"a-spacing-small po-operating_system\"})\n",
    "    processing(operating_sys , os)\n",
    "\n",
    "    #get mobile color\n",
    "    color = soup.find('tr' , {'class' : \"a-spacing-small po-color\"})\n",
    "    processing(color , colors)\n",
    "\n",
    "    #get cellular_technology of mobile\n",
    "    cellular = soup.find('tr' , {'class' : \"a-spacing-small po-cellular_technology\"})\n",
    "    processing(cellular , cellular_technology)\n",
    "\n",
    "    #get memory storage of mobile \n",
    "    memory = soup.find('tr' , {'class' : \"a-spacing-small po-memory_storage_capacity\"})\n",
    "    processing(memory , memory_storage)\n",
    "\n",
    "    #get mobile connectivity_technologies\n",
    "    connectivety = soup.find('tr' , {'class' : \"a-spacing-small po-connectivity_technology\"})\n",
    "    processing(connectivety , connectivity_technologies)\n",
    "\n",
    "    #get mobile screen\n",
    "    screen_mobile = soup.find('tr' , {'class' : \"a-spacing-small po-display.size\"})\n",
    "    processing(screen_mobile , screen_size)\n",
    "\n",
    "    #get wireless network of mobile\n",
    "    wireless_net = soup.find('tr' , {'class' : \"a-spacing-small po-wireless_network_technology\"})\n",
    "    processing(wireless_net , wireless_network)\n",
    "\n",
    "    #get sim card type\n",
    "    SIM_card_count = soup.find('tr' , {'class' : \"a-spacing-small po-sim_card_slot_count\"})\n",
    "    processing(SIM_card_count , SIM_card)"
   ]
  },
  {
   "cell_type": "code",
   "execution_count": null,
   "id": "b17cad2a",
   "metadata": {},
   "outputs": [],
   "source": [
    "#Make dataframe with types values\n",
    "all_data = {'Salaries' : salaries , 'Brands' : brands , 'Models' : models , 'Wireless carrier':wireless_carrier,\n",
    "           'OS' : os , 'Colors' : colors , 'Cellular technology' : cellular_technology ,'Memory storage': memory_storage,\n",
    "           'Connectivity technologies' : connectivity_technologies , 'Screen_size' : screen_size , \n",
    "            'Wireless network' : wireless_network , 'SIM card' : SIM_card}\n",
    "\n",
    "data = pd.DataFrame(all_data)"
   ]
  },
  {
   "cell_type": "code",
   "execution_count": null,
   "id": "40c2063a",
   "metadata": {},
   "outputs": [],
   "source": [
    "#Show data \n",
    "data.head()"
   ]
  },
  {
   "cell_type": "code",
   "execution_count": null,
   "id": "47c47b11",
   "metadata": {},
   "outputs": [],
   "source": [
    "#Save the data in the location chosen by the user\n",
    "file_location = input('Please enter the location that you want to save file as the followin format C://folder_name :')\n",
    "file_name = input('Please enter the file name :')\n",
    "data.to_csv(f'{file_location}//{file_name}.csv', index = False)"
   ]
  }
 ],
 "metadata": {
  "kernelspec": {
   "display_name": "Python 3 (ipykernel)",
   "language": "python",
   "name": "python3"
  },
  "language_info": {
   "codemirror_mode": {
    "name": "ipython",
    "version": 3
   },
   "file_extension": ".py",
   "mimetype": "text/x-python",
   "name": "python",
   "nbconvert_exporter": "python",
   "pygments_lexer": "ipython3",
   "version": "3.9.7"
  }
 },
 "nbformat": 4,
 "nbformat_minor": 5
}
